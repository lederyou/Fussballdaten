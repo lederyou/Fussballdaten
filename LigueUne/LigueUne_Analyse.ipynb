{
 "cells": [
  {
   "cell_type": "code",
   "execution_count": 3,
   "metadata": {},
   "outputs": [],
   "source": [
    "import pandas as pd\n",
    "import re\n",
    "import math\n",
    "import matplotlib.pyplot as plt\n",
    "import seaborn as sns\n",
    "import os\n",
    "import numpy as np\n",
    "import matplotlib.colors as mcolors\n",
    "from matplotlib.patches import Rectangle\n",
    "from scipy.stats import chi2\n",
    "from scipy.stats import chi2_contingency"
   ]
  },
  {
   "cell_type": "code",
   "execution_count": 4,
   "metadata": {},
   "outputs": [
    {
     "data": {
      "text/html": [
       "<div>\n",
       "<style scoped>\n",
       "    .dataframe tbody tr th:only-of-type {\n",
       "        vertical-align: middle;\n",
       "    }\n",
       "\n",
       "    .dataframe tbody tr th {\n",
       "        vertical-align: top;\n",
       "    }\n",
       "\n",
       "    .dataframe thead th {\n",
       "        text-align: right;\n",
       "    }\n",
       "</style>\n",
       "<table border=\"1\" class=\"dataframe\">\n",
       "  <thead>\n",
       "    <tr style=\"text-align: right;\">\n",
       "      <th></th>\n",
       "      <th>League</th>\n",
       "      <th>Saison</th>\n",
       "      <th>Spieltag</th>\n",
       "      <th>hometeam_raw</th>\n",
       "      <th>awayteam_raw</th>\n",
       "      <th>final_score_raw</th>\n",
       "      <th>goal_raw</th>\n",
       "      <th>goal_time_raw</th>\n",
       "      <th>extratime_raw</th>\n",
       "    </tr>\n",
       "  </thead>\n",
       "  <tbody>\n",
       "    <tr>\n",
       "      <th>0</th>\n",
       "      <td>Ligue Une</td>\n",
       "      <td>2014/2015</td>\n",
       "      <td>12.0</td>\n",
       "      <td>FC Lorient</td>\n",
       "      <td>Paris St. Germain</td>\n",
       "      <td>1:2</td>\n",
       "      <td>1:2</td>\n",
       "      <td>68.0</td>\n",
       "      <td>No</td>\n",
       "    </tr>\n",
       "    <tr>\n",
       "      <th>1</th>\n",
       "      <td>Ligue Une</td>\n",
       "      <td>2014/2015</td>\n",
       "      <td>12.0</td>\n",
       "      <td>FC Lorient</td>\n",
       "      <td>Paris St. Germain</td>\n",
       "      <td>1:2</td>\n",
       "      <td>1:1</td>\n",
       "      <td>60.0</td>\n",
       "      <td>No</td>\n",
       "    </tr>\n",
       "    <tr>\n",
       "      <th>2</th>\n",
       "      <td>Ligue Une</td>\n",
       "      <td>2014/2015</td>\n",
       "      <td>12.0</td>\n",
       "      <td>FC Lorient</td>\n",
       "      <td>Paris St. Germain</td>\n",
       "      <td>1:2</td>\n",
       "      <td>1:0</td>\n",
       "      <td>42.0</td>\n",
       "      <td>No</td>\n",
       "    </tr>\n",
       "    <tr>\n",
       "      <th>3</th>\n",
       "      <td>Ligue Une</td>\n",
       "      <td>2014/2015</td>\n",
       "      <td>5.0</td>\n",
       "      <td>HSC Montpellier</td>\n",
       "      <td>FC Lorient</td>\n",
       "      <td>1:0</td>\n",
       "      <td>1:0</td>\n",
       "      <td>44.0</td>\n",
       "      <td>No</td>\n",
       "    </tr>\n",
       "    <tr>\n",
       "      <th>4</th>\n",
       "      <td>Ligue Une</td>\n",
       "      <td>2014/2015</td>\n",
       "      <td>7.0</td>\n",
       "      <td>Stade Rennes</td>\n",
       "      <td>FC Toulouse</td>\n",
       "      <td>0:3</td>\n",
       "      <td>0:3</td>\n",
       "      <td>61.0</td>\n",
       "      <td>No</td>\n",
       "    </tr>\n",
       "  </tbody>\n",
       "</table>\n",
       "</div>"
      ],
      "text/plain": [
       "      League     Saison  Spieltag     hometeam_raw       awayteam_raw  \\\n",
       "0  Ligue Une  2014/2015      12.0       FC Lorient  Paris St. Germain   \n",
       "1  Ligue Une  2014/2015      12.0       FC Lorient  Paris St. Germain   \n",
       "2  Ligue Une  2014/2015      12.0       FC Lorient  Paris St. Germain   \n",
       "3  Ligue Une  2014/2015       5.0  HSC Montpellier         FC Lorient   \n",
       "4  Ligue Une  2014/2015       7.0     Stade Rennes        FC Toulouse   \n",
       "\n",
       "  final_score_raw goal_raw  goal_time_raw extratime_raw  \n",
       "0             1:2      1:2           68.0            No  \n",
       "1             1:2      1:1           60.0            No  \n",
       "2             1:2      1:0           42.0            No  \n",
       "3             1:0      1:0           44.0            No  \n",
       "4             0:3      0:3           61.0            No  "
      ]
     },
     "execution_count": 4,
     "metadata": {},
     "output_type": "execute_result"
    }
   ],
   "source": [
    "file_path = '/Users/youri/VSC Data/Data Analytics/Fussballdaten/LigueUne/Ligue_Une_Bereinigt.csv'\n",
    "df = pd.read_csv(file_path)\n",
    "\n",
    "# Anzeigen der ersten paar Zeilen der Tabelle zur Überprüfung\n",
    "df.head()"
   ]
  },
  {
   "cell_type": "code",
   "execution_count": 5,
   "metadata": {},
   "outputs": [
    {
     "data": {
      "image/png": "[encoded data removed]",
      "text/plain": [
       "<Figure size 1200x800 with 1 Axes>"
      ]
     },
     "metadata": {},
     "output_type": "display_data"
    }
   ],
   "source": [
    "# Erstellen der Boxplots für jede Saison\n",
    "plt.figure(figsize=(12, 8))\n",
    "sns.boxplot(data=df, x='Saison', y='goal_time_raw')\n",
    "plt.title('Verteilung der Torminuten pro Saison')\n",
    "plt.xlabel('Saison')\n",
    "plt.ylabel('Torminute')\n",
    "plt.show()"
   ]
  }
 ],
 "metadata": {
  "kernelspec": {
   "display_name": "base",
   "language": "python",
   "name": "python3"
  },
  "language_info": {
   "codemirror_mode": {
    "name": "ipython",
    "version": 3
   },
   "file_extension": ".py",
   "mimetype": "text/x-python",
   "name": "python",
   "nbconvert_exporter": "python",
   "pygments_lexer": "ipython3",
   "version": "3.11.4"
  }
 },
 "nbformat": 4,
 "nbformat_minor": 2
}
