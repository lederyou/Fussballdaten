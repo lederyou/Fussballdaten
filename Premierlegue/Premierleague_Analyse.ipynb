{
 "cells": [
  {
   "cell_type": "code",
   "execution_count": 5,
   "metadata": {},
   "outputs": [],
   "source": [
    "import pandas as pd\n",
    "import re\n",
    "import math\n",
    "import matplotlib.pyplot as plt\n",
    "import seaborn as sns\n",
    "import os\n",
    "import numpy as np\n",
    "import matplotlib.colors as mcolors\n",
    "from matplotlib.patches import Rectangle\n",
    "from scipy.stats import chi2\n",
    "from scipy.stats import chi2_contingency\n",
    "import mysql.connector"
   ]
  },
  {
   "cell_type": "code",
   "execution_count": 6,
   "metadata": {},
   "outputs": [
    {
     "name": "stderr",
     "output_type": "stream",
     "text": [
      "/var/folders/g8/k9tj64ws6m96zc6c40s8xc6m0000gn/T/ipykernel_10388/3338520815.py:3: UserWarning: pandas only supports SQLAlchemy connectable (engine/connection) or database string URI or sqlite3 DBAPI2 connection. Other DBAPI2 objects are not tested. Please consider using SQLAlchemy.\n",
      "  df=pd.read_sql_query(\"SELECT * FROM premierleague \",conn)\n"
     ]
    },
    {
     "data": {
      "text/html": [
       "<div>\n",
       "<style scoped>\n",
       "    .dataframe tbody tr th:only-of-type {\n",
       "        vertical-align: middle;\n",
       "    }\n",
       "\n",
       "    .dataframe tbody tr th {\n",
       "        vertical-align: top;\n",
       "    }\n",
       "\n",
       "    .dataframe thead th {\n",
       "        text-align: right;\n",
       "    }\n",
       "</style>\n",
       "<table border=\"1\" class=\"dataframe\">\n",
       "  <thead>\n",
       "    <tr style=\"text-align: right;\">\n",
       "      <th></th>\n",
       "      <th>Liga</th>\n",
       "      <th>Saison</th>\n",
       "      <th>Spieltag</th>\n",
       "      <th>Heimteam</th>\n",
       "      <th>Gatsteam</th>\n",
       "      <th>Endstand</th>\n",
       "      <th>Tore</th>\n",
       "      <th>Torzeit</th>\n",
       "      <th>Nachspielzeit</th>\n",
       "    </tr>\n",
       "  </thead>\n",
       "  <tbody>\n",
       "    <tr>\n",
       "      <th>0</th>\n",
       "      <td>Premierlegue</td>\n",
       "      <td>2022/2023</td>\n",
       "      <td>1</td>\n",
       "      <td>Crystal Palace</td>\n",
       "      <td>FC Arsenal</td>\n",
       "      <td>0:2</td>\n",
       "      <td>0:2</td>\n",
       "      <td>85</td>\n",
       "      <td>No</td>\n",
       "    </tr>\n",
       "    <tr>\n",
       "      <th>1</th>\n",
       "      <td>Premierlegue</td>\n",
       "      <td>2022/2023</td>\n",
       "      <td>1</td>\n",
       "      <td>Crystal Palace</td>\n",
       "      <td>FC Arsenal</td>\n",
       "      <td>0:2</td>\n",
       "      <td>0:1</td>\n",
       "      <td>20</td>\n",
       "      <td>No</td>\n",
       "    </tr>\n",
       "    <tr>\n",
       "      <th>2</th>\n",
       "      <td>Premierlegue</td>\n",
       "      <td>2022/2023</td>\n",
       "      <td>1</td>\n",
       "      <td>FC Fulham</td>\n",
       "      <td>FC Liverpool</td>\n",
       "      <td>2:2</td>\n",
       "      <td>2:2</td>\n",
       "      <td>80</td>\n",
       "      <td>No</td>\n",
       "    </tr>\n",
       "    <tr>\n",
       "      <th>3</th>\n",
       "      <td>Premierlegue</td>\n",
       "      <td>2022/2023</td>\n",
       "      <td>1</td>\n",
       "      <td>FC Fulham</td>\n",
       "      <td>FC Liverpool</td>\n",
       "      <td>2:2</td>\n",
       "      <td>2:1</td>\n",
       "      <td>72</td>\n",
       "      <td>No</td>\n",
       "    </tr>\n",
       "    <tr>\n",
       "      <th>4</th>\n",
       "      <td>Premierlegue</td>\n",
       "      <td>2022/2023</td>\n",
       "      <td>1</td>\n",
       "      <td>FC Fulham</td>\n",
       "      <td>FC Liverpool</td>\n",
       "      <td>2:2</td>\n",
       "      <td>1:1</td>\n",
       "      <td>64</td>\n",
       "      <td>No</td>\n",
       "    </tr>\n",
       "  </tbody>\n",
       "</table>\n",
       "</div>"
      ],
      "text/plain": [
       "           Liga     Saison  Spieltag        Heimteam      Gatsteam Endstand  \\\n",
       "0  Premierlegue  2022/2023         1  Crystal Palace    FC Arsenal      0:2   \n",
       "1  Premierlegue  2022/2023         1  Crystal Palace    FC Arsenal      0:2   \n",
       "2  Premierlegue  2022/2023         1       FC Fulham  FC Liverpool      2:2   \n",
       "3  Premierlegue  2022/2023         1       FC Fulham  FC Liverpool      2:2   \n",
       "4  Premierlegue  2022/2023         1       FC Fulham  FC Liverpool      2:2   \n",
       "\n",
       "  Tore  Torzeit Nachspielzeit  \n",
       "0  0:2       85            No  \n",
       "1  0:1       20            No  \n",
       "2  2:2       80            No  \n",
       "3  2:1       72            No  \n",
       "4  1:1       64            No  "
      ]
     },
     "execution_count": 6,
     "metadata": {},
     "output_type": "execute_result"
    }
   ],
   "source": [
    "conn=mysql.connector.connect(host='localhost',port=int(3306),user='root',passwd='Roger123',db='fussballdata')\n",
    "\n",
    "df=pd.read_sql_query(\"SELECT * FROM premierleague \",conn)\n",
    "\n",
    "df.head()"
   ]
  },
  {
   "cell_type": "code",
   "execution_count": 8,
   "metadata": {},
   "outputs": [
    {
     "data": {
      "image/png": "[encoded data removed]",
      "text/plain": [
       "<Figure size 1200x800 with 1 Axes>"
      ]
     },
     "metadata": {},
     "output_type": "display_data"
    }
   ],
   "source": [
    "# E rstellen der Boxplots für jede Saison\n",
    "plt.figure(figsize=(12, 8))\n",
    "sns.boxplot(data=df, x='Saison', y='Torzeit')\n",
    "plt.title('Verteilung der Torminuten pro Saison')\n",
    "plt.xlabel('Saison')\n",
    "plt.ylabel('Torminute')\n",
    "plt.show()"
   ]
  }
 ],
 "metadata": {
  "kernelspec": {
   "display_name": "base",
   "language": "python",
   "name": "python3"
  },
  "language_info": {
   "codemirror_mode": {
    "name": "ipython",
    "version": 3
   },
   "file_extension": ".py",
   "mimetype": "text/x-python",
   "name": "python",
   "nbconvert_exporter": "python",
   "pygments_lexer": "ipython3",
   "version": "3.11.4"
  }
 },
 "nbformat": 4,
 "nbformat_minor": 2
}
