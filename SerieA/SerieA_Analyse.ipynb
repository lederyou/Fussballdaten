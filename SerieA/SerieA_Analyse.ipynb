{
 "cells": [
  {
   "cell_type": "code",
   "execution_count": 8,
   "metadata": {},
   "outputs": [],
   "source": [
    "import pandas as pd\n",
    "import re\n",
    "import math\n",
    "import matplotlib.pyplot as plt\n",
    "import seaborn as sns\n",
    "import os\n",
    "import numpy as np\n",
    "import matplotlib.colors as mcolors\n",
    "from matplotlib.patches import Rectangle\n",
    "from scipy.stats import chi2\n",
    "from scipy.stats import chi2_contingency\n",
    "import mysql.connector"
   ]
  },
  {
   "cell_type": "code",
   "execution_count": 9,
   "metadata": {},
   "outputs": [
    {
     "name": "stderr",
     "output_type": "stream",
     "text": [
      "/var/folders/g8/k9tj64ws6m96zc6c40s8xc6m0000gn/T/ipykernel_10394/3751104502.py:3: UserWarning: pandas only supports SQLAlchemy connectable (engine/connection) or database string URI or sqlite3 DBAPI2 connection. Other DBAPI2 objects are not tested. Please consider using SQLAlchemy.\n",
      "  df=pd.read_sql_query(\"SELECT * FROM seriea \",conn)\n"
     ]
    },
    {
     "data": {
      "text/html": [
       "<div>\n",
       "<style scoped>\n",
       "    .dataframe tbody tr th:only-of-type {\n",
       "        vertical-align: middle;\n",
       "    }\n",
       "\n",
       "    .dataframe tbody tr th {\n",
       "        vertical-align: top;\n",
       "    }\n",
       "\n",
       "    .dataframe thead th {\n",
       "        text-align: right;\n",
       "    }\n",
       "</style>\n",
       "<table border=\"1\" class=\"dataframe\">\n",
       "  <thead>\n",
       "    <tr style=\"text-align: right;\">\n",
       "      <th></th>\n",
       "      <th>Liga</th>\n",
       "      <th>Saison</th>\n",
       "      <th>Spieltag</th>\n",
       "      <th>Heimteam</th>\n",
       "      <th>Gastteam</th>\n",
       "      <th>Endstand</th>\n",
       "      <th>Tore</th>\n",
       "      <th>Torzeit</th>\n",
       "      <th>Nachspielzeit</th>\n",
       "    </tr>\n",
       "  </thead>\n",
       "  <tbody>\n",
       "    <tr>\n",
       "      <th>0</th>\n",
       "      <td>Serie A</td>\n",
       "      <td>2014/2015</td>\n",
       "      <td>1</td>\n",
       "      <td>AC Chievo Verona</td>\n",
       "      <td>Juventus Turin</td>\n",
       "      <td>0:1</td>\n",
       "      <td>0:1</td>\n",
       "      <td>6</td>\n",
       "      <td>No</td>\n",
       "    </tr>\n",
       "    <tr>\n",
       "      <th>1</th>\n",
       "      <td>Serie A</td>\n",
       "      <td>2014/2015</td>\n",
       "      <td>1</td>\n",
       "      <td>AS Rom</td>\n",
       "      <td>AC Florenz</td>\n",
       "      <td>2:0</td>\n",
       "      <td>2:0</td>\n",
       "      <td>90</td>\n",
       "      <td>No</td>\n",
       "    </tr>\n",
       "    <tr>\n",
       "      <th>2</th>\n",
       "      <td>Serie A</td>\n",
       "      <td>2014/2015</td>\n",
       "      <td>1</td>\n",
       "      <td>AS Rom</td>\n",
       "      <td>AC Florenz</td>\n",
       "      <td>2:0</td>\n",
       "      <td>1:0</td>\n",
       "      <td>28</td>\n",
       "      <td>No</td>\n",
       "    </tr>\n",
       "    <tr>\n",
       "      <th>3</th>\n",
       "      <td>Serie A</td>\n",
       "      <td>2014/2015</td>\n",
       "      <td>1</td>\n",
       "      <td>AC Mailand</td>\n",
       "      <td>Lazio Rom</td>\n",
       "      <td>1:0</td>\n",
       "      <td>3:1</td>\n",
       "      <td>67</td>\n",
       "      <td>No</td>\n",
       "    </tr>\n",
       "    <tr>\n",
       "      <th>4</th>\n",
       "      <td>Serie A</td>\n",
       "      <td>2014/2015</td>\n",
       "      <td>1</td>\n",
       "      <td>AC Mailand</td>\n",
       "      <td>Lazio Rom</td>\n",
       "      <td>1:0</td>\n",
       "      <td>3:0</td>\n",
       "      <td>64</td>\n",
       "      <td>No</td>\n",
       "    </tr>\n",
       "  </tbody>\n",
       "</table>\n",
       "</div>"
      ],
      "text/plain": [
       "      Liga     Saison  Spieltag          Heimteam        Gastteam Endstand  \\\n",
       "0  Serie A  2014/2015         1  AC Chievo Verona  Juventus Turin      0:1   \n",
       "1  Serie A  2014/2015         1            AS Rom      AC Florenz      2:0   \n",
       "2  Serie A  2014/2015         1            AS Rom      AC Florenz      2:0   \n",
       "3  Serie A  2014/2015         1        AC Mailand       Lazio Rom      1:0   \n",
       "4  Serie A  2014/2015         1        AC Mailand       Lazio Rom      1:0   \n",
       "\n",
       "  Tore  Torzeit Nachspielzeit  \n",
       "0  0:1        6            No  \n",
       "1  2:0       90            No  \n",
       "2  1:0       28            No  \n",
       "3  3:1       67            No  \n",
       "4  3:0       64            No  "
      ]
     },
     "execution_count": 9,
     "metadata": {},
     "output_type": "execute_result"
    }
   ],
   "source": [
    "conn=mysql.connector.connect(host='localhost',port=int(3306),user='root',passwd='Roger123',db='fussballdata')\n",
    "\n",
    "df=pd.read_sql_query(\"SELECT * FROM seriea \",conn)\n",
    "\n",
    "df.head()"
   ]
  },
  {
   "cell_type": "code",
   "execution_count": 10,
   "metadata": {},
   "outputs": [
    {
     "data": {
      "image/png": "[encoded data removed]",
      "text/plain": [
       "<Figure size 1200x800 with 1 Axes>"
      ]
     },
     "metadata": {},
     "output_type": "display_data"
    }
   ],
   "source": [
    "# Erstellen der Boxplots für jede Saison\n",
    "plt.figure(figsize=(12, 8))\n",
    "sns.boxplot(data=df, x='Saison', y='Torzeit')\n",
    "plt.title('Verteilung der Torminuten pro Saison')\n",
    "plt.xlabel('Saison')\n",
    "plt.ylabel('Torminute')\n",
    "plt.show()"
   ]
  }
 ],
 "metadata": {
  "kernelspec": {
   "display_name": "base",
   "language": "python",
   "name": "python3"
  },
  "language_info": {
   "codemirror_mode": {
    "name": "ipython",
    "version": 3
   },
   "file_extension": ".py",
   "mimetype": "text/x-python",
   "name": "python",
   "nbconvert_exporter": "python",
   "pygments_lexer": "ipython3",
   "version": "3.11.4"
  }
 },
 "nbformat": 4,
 "nbformat_minor": 2
}
